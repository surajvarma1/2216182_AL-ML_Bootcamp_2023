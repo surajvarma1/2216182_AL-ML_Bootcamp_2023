{
  "nbformat": 4,
  "nbformat_minor": 0,
  "metadata": {
    "colab": {
      "provenance": [],
      "authorship_tag": "ABX9TyOVCIzG1H8ZNOAxCiUv1bm7",
      "include_colab_link": true
    },
    "kernelspec": {
      "name": "python3",
      "display_name": "Python 3"
    },
    "language_info": {
      "name": "python"
    }
  },
  "cells": [
    {
      "cell_type": "markdown",
      "metadata": {
        "id": "view-in-github",
        "colab_type": "text"
      },
      "source": [
        "<a href=\"https://colab.research.google.com/github/surajvarma1/2216182_AL-ML_Bootcamp_2023/blob/main/Bootcamp_Assign_01.ipynb\" target=\"_parent\"><img src=\"https://colab.research.google.com/assets/colab-badge.svg\" alt=\"Open In Colab\"/></a>"
      ]
    },
    {
      "cell_type": "code",
      "execution_count": null,
      "metadata": {
        "colab": {
          "base_uri": "https://localhost:8080/"
        },
        "id": "Kf2PNIDy12oi",
        "outputId": "184eac8a-5661-42c5-ec70-812c9b33fa06"
      },
      "outputs": [
        {
          "output_type": "stream",
          "name": "stdout",
          "text": [
            "txt= python is very important programming language\n",
            "some part print= hon is\n",
            "True\n",
            "the length= 45\n",
            "s1=    \n",
            "s2=   ex\n",
            "string=    EXAMPLES OF STRING METHODS\n",
            "string=    examples of string methods\n",
            "string1= examples of string methods\n"
          ]
        }
      ],
      "source": [
        "# Methods of string with examples\n",
        "txt=\"python is very important programming language\"\n",
        "print(\"txt=\",txt)\n",
        "print(\"some part print=\",txt[3:9])\n",
        "print(\"python\"in txt)\n",
        "print(\"the length=\",len(txt))\n",
        "string=\"   examples of string methods\"\n",
        "s1=slice(3)\n",
        "print(\"s1=\",string[s1])\n",
        "s1=slice(1,5)\n",
        "print(\"s2=\",string[s1])\n",
        "print(\"string=\",string.upper())\n",
        "print(\"string=\",string.lower())\n",
        "print(\"string1=\",string.strip())\n"
      ]
    },
    {
      "cell_type": "code",
      "source": [
        "# lists\n",
        "l1=[10,11,12,13,15,16]\n",
        "l2=[\"rajesh\",\"rakesh\"]\n",
        "print(\"the length of l1=\",len(l1))\n",
        "print(\"the length of l2=\",len(l2))\n",
        "l3=[8,9,10]\n",
        "print(\"the contanation=\",l1+l3)\n",
        "print(\"the repetition=\",l2*2)\n",
        "l4=['a','e','i','o','u']\n",
        "print(\"checking of a in l4=\",'l'in l4)\n",
        "print(\"checking of a in l4=\",'k'not in l4)\n",
        "l1.append(0)\n",
        "print(\"now l1=\",l1)\n",
        "print(\"all function for l1=\",all(l1))\n",
        "print(\"all function for l2=\",all(l2))\n",
        "l6=[550,568]\n",
        "print(\"any function=\",any(l6))\n",
        "print(\"max value=\",max(l6))\n",
        "print(\"min value=\",min(l6))\n",
        "print(\"sum value=\",sum(l6))"
      ],
      "metadata": {
        "colab": {
          "base_uri": "https://localhost:8080/"
        },
        "id": "5P6zKE4B3e6A",
        "outputId": "8d5cca39-2b86-4cb0-8816-d3858938b046"
      },
      "execution_count": null,
      "outputs": [
        {
          "output_type": "stream",
          "name": "stdout",
          "text": [
            "the length of l1= 6\n",
            "the length of l2= 2\n",
            "the contanation= [10, 11, 12, 13, 15, 16, 8, 9, 10]\n",
            "the repetition= ['rajesh', 'rakesh', 'rajesh', 'rakesh']\n",
            "checking of a in l4= False\n",
            "checking of a in l4= True\n",
            "now l1= [10, 11, 12, 13, 15, 16, 0]\n",
            "all function for l1= False\n",
            "all function for l2= True\n",
            "any function= True\n",
            "max value= 568\n",
            "min value= 550\n",
            "sum value= 1118\n"
          ]
        }
      ]
    },
    {
      "cell_type": "code",
      "source": [
        "#tupless\n",
        "t1=(89,56,85)\n",
        "t2=(72,89,90)\n",
        "print(\"the length of t1=\",len(t1))\n",
        "print(\"the length of t2=\",len(t2))\n",
        "t3=t1+t2\n",
        "print(\"the concant of t1 and t2=\",t3)\n",
        "print(\"the repitition=\",t2*2)\n",
        "print(\"checking element 89 in t2=\",8 in t2)\n",
        "print(\"all the operations in tuple=\",all(t1))\n",
        "print(\"min element=\",min(t1))\n",
        "print(\"max element=\",max(t1))"
      ],
      "metadata": {
        "colab": {
          "base_uri": "https://localhost:8080/"
        },
        "id": "x1XPgY5k30Aq",
        "outputId": "2ee00151-5085-4e81-fdef-17e0367dced3"
      },
      "execution_count": null,
      "outputs": [
        {
          "output_type": "stream",
          "name": "stdout",
          "text": [
            "the length of t1= 3\n",
            "the length of t2= 3\n",
            "the concant of t1 and t2= (89, 56, 85, 72, 89, 90)\n",
            "the repitition= (72, 89, 90, 72, 89, 90)\n",
            "checking element 89 in t2= False\n",
            "all the operations in tuple= True\n",
            "min element= 56\n",
            "max element= 89\n"
          ]
        }
      ]
    },
    {
      "cell_type": "code",
      "source": [
        "#setss\n",
        "s1={11,12,13,14,15,16}\n",
        "s2={20,21,22,24,25,26}\n",
        "print(\"s1=\",s1)\n",
        "print(\"s2=\",s2)\n",
        "s1.update(s2)\n",
        "print(\"the set1(update)=\",s1)\n",
        "s2.add(11)\n",
        "print(\"the set 2=\",s2)\n",
        "s2.remove(11)\n",
        "print(\"the set 2=\",s2)\n",
        "s2.discard(25)\n",
        "print(\"the set 2=\",s2)\n",
        "len(s1)\n",
        "print(\"the length s1=\",s1)\n",
        "print(\"the intersection\",s1.intersection(s2))\n",
        "print(\"the difference=\",s1.difference(s2))\n"
      ],
      "metadata": {
        "colab": {
          "base_uri": "https://localhost:8080/"
        },
        "id": "Ilq0fyVe4cCk",
        "outputId": "e0dc4a67-38c8-4266-c376-ecf250f5b6af"
      },
      "execution_count": null,
      "outputs": [
        {
          "output_type": "stream",
          "name": "stdout",
          "text": [
            "s1= {11, 12, 13, 14, 15, 16}\n",
            "s2= {20, 21, 22, 24, 25, 26}\n",
            "the set1(update)= {11, 12, 13, 14, 15, 16, 20, 21, 22, 24, 25, 26}\n",
            "the set 2= {11, 20, 21, 22, 24, 25, 26}\n",
            "the set 2= {20, 21, 22, 24, 25, 26}\n",
            "the set 2= {20, 21, 22, 24, 26}\n",
            "the length s1= {11, 12, 13, 14, 15, 16, 20, 21, 22, 24, 25, 26}\n",
            "the intersection {20, 21, 22, 24, 26}\n",
            "the difference= {11, 12, 13, 14, 15, 16, 25}\n"
          ]
        }
      ]
    },
    {
      "cell_type": "code",
      "source": [
        "#arithemetic operations\n",
        "x=int(input(\"enter the number\"))\n",
        "y=int(input(\"enter the number\"))\n",
        "print(\"x+y=\",x+y)\n",
        "print(\"x-y=\",x-y)\n",
        "print(\"x*y=\",x*y)\n",
        "print(\"x/y=\",x/y)\n",
        "print(\"x+y=\",x+y)\n",
        "print(\"x%y=\",x%y)\n",
        "print(\"x**y=\",x**y)\n"
      ],
      "metadata": {
        "colab": {
          "base_uri": "https://localhost:8080/"
        },
        "id": "0AON5WVd4rEm",
        "outputId": "99460462-3b53-4f9f-e89b-4e3dceefc8b7"
      },
      "execution_count": null,
      "outputs": [
        {
          "output_type": "stream",
          "name": "stdout",
          "text": [
            "enter the number4\n",
            "enter the number6\n",
            "x+y= 10\n",
            "x-y= -2\n",
            "x*y= 24\n",
            "x/y= 0.6666666666666666\n",
            "x+y= 10\n",
            "x%y= 4\n",
            "x**y= 4096\n"
          ]
        }
      ]
    },
    {
      "cell_type": "code",
      "source": [
        "#assign operators\n",
        "a=int(input(\"enter the number\"))\n",
        "b=int(input(\"enter the number\"))\n",
        "# a = a + b\n",
        "a += b\n",
        "print(a)\n",
        "a -= b\n",
        "print(a)\n",
        "a *= b\n",
        "print(a)\n",
        "a /= b\n",
        "print(a)"
      ],
      "metadata": {
        "colab": {
          "base_uri": "https://localhost:8080/"
        },
        "id": "-G_1FAnv4rBI",
        "outputId": "582befce-dcb9-45a2-d018-32fe336a4a6b"
      },
      "execution_count": null,
      "outputs": [
        {
          "output_type": "stream",
          "name": "stdout",
          "text": [
            "enter the number34\n",
            "enter the number67\n",
            "101\n",
            "34\n",
            "2278\n",
            "34.0\n"
          ]
        }
      ]
    },
    {
      "cell_type": "code",
      "source": [
        "#membership operators\n",
        "string=\"membership operators in python\"\n",
        "print(\"in\"in string)\n",
        "print(\"ship\"in string)\n",
        "print(\"is\"in string)\n"
      ],
      "metadata": {
        "colab": {
          "base_uri": "https://localhost:8080/"
        },
        "id": "z2quy04P5TVp",
        "outputId": "8d1feb41-619a-4d24-bb52-f1df786932f9"
      },
      "execution_count": null,
      "outputs": [
        {
          "output_type": "stream",
          "name": "stdout",
          "text": [
            "True\n",
            "True\n",
            "False\n"
          ]
        }
      ]
    },
    {
      "cell_type": "code",
      "source": [
        "# bitwise operators\n",
        "a = 20\n",
        "b = 8\n",
        "# AND op\n",
        "print(\"a & b =\", a & b)\n",
        " \n",
        "# OR operation\n",
        "print(\"a | b =\", a | b)\n",
        " \n",
        "#bitwise NOT operation\n",
        "print(\"~a =\", ~a)\n",
        " \n",
        "# print bitwise XOR operation\n",
        "print(\"a ^ b =\", a ^ b)"
      ],
      "metadata": {
        "id": "8qPL7yoI_ucm"
      },
      "execution_count": null,
      "outputs": []
    },
    {
      "cell_type": "code",
      "source": [
        "#identity operators\n",
        "a1=50\n",
        "b1=54\n",
        "a2=50\n",
        "b2=20\n",
        "print(a1 is a2)\n",
        "print(b1 is b2)\n",
        "print(a1 is not a2)\n",
        "print(b1 is not b2)"
      ],
      "metadata": {
        "colab": {
          "base_uri": "https://localhost:8080/"
        },
        "id": "LWC8M5Va8Tu8",
        "outputId": "88ec2aec-d703-4bf3-fe3a-59aafd7d2ccc"
      },
      "execution_count": null,
      "outputs": [
        {
          "output_type": "stream",
          "name": "stdout",
          "text": [
            "True\n",
            "False\n",
            "False\n",
            "True\n"
          ]
        }
      ]
    },
    {
      "cell_type": "code",
      "source": [
        "myStr = 'this is string'\n",
        "print(\"String = \", myStr)\n",
        "print(\"Reverse order of the String = \", myStr[::-1])\n",
        "List = [12,13,14,15,16,17]\n",
        "print(\"\\nOriginal List:\\n\", List)\n",
        "print(\"\\nSliced Lists: \")\n",
        "print(List[2:9:3])\n",
        "# Display sliced list\n",
        "print(List[::4])\n",
        "# Display sliced list\n",
        "print(List[::])"
      ],
      "metadata": {
        "colab": {
          "base_uri": "https://localhost:8080/"
        },
        "id": "Gt-Rs0vr94v8",
        "outputId": "7aeac1e0-e201-43bb-f014-ca1ba08c96a9"
      },
      "execution_count": null,
      "outputs": [
        {
          "output_type": "stream",
          "name": "stdout",
          "text": [
            "String =  this is string\n",
            "Reverse order of the String =  gnirts si siht\n",
            "\n",
            "Original List:\n",
            " [12, 13, 14, 15, 16, 17]\n",
            "\n",
            "Sliced Lists: \n",
            "[14, 17]\n",
            "[12, 16]\n",
            "[12, 13, 14, 15, 16, 17]\n"
          ]
        }
      ]
    },
    {
      "cell_type": "code",
      "source": [
        "print('a series of characters desginated as one object known as a string'[::-1][4::3])\n",
        "print('a series of characters desginated as one object known as a string'[3::10][::-1])"
      ],
      "metadata": {
        "colab": {
          "base_uri": "https://localhost:8080/"
        },
        "id": "uw8-mhzo-5wq",
        "outputId": "3d9de0bc-8f0f-4536-b621-06faa8b78fc2"
      },
      "execution_count": null,
      "outputs": [
        {
          "output_type": "stream",
          "name": "stdout",
          "text": [
            "taawkcbe  tiestrcoeea\n",
            "n j dhe\n"
          ]
        }
      ]
    },
    {
      "cell_type": "code",
      "source": [
        "print(\"------------\")\n",
        "print('welcome to pythin traning program'[3:10][::-1])"
      ],
      "metadata": {
        "colab": {
          "base_uri": "https://localhost:8080/"
        },
        "id": "dLcD2aay_CS3",
        "outputId": "50d70c39-ed01-40dd-8b28-328cb13ac886"
      },
      "execution_count": null,
      "outputs": [
        {
          "output_type": "stream",
          "name": "stdout",
          "text": [
            "------------\n",
            "ot emoc\n"
          ]
        }
      ]
    },
    {
      "cell_type": "code",
      "source": [
        "str='was it a car or a cat i saw'[::-1]\n",
        "print(str)\n",
        "print(str.upper())"
      ],
      "metadata": {
        "colab": {
          "base_uri": "https://localhost:8080/"
        },
        "id": "yP2Pldke_GZO",
        "outputId": "2e7611dd-075f-46e2-ead7-3a044c0ed7a3"
      },
      "execution_count": null,
      "outputs": [
        {
          "output_type": "stream",
          "name": "stdout",
          "text": [
            "was i tac a ro rac a ti saw\n",
            "WAS I TAC A RO RAC A TI SAW\n"
          ]
        }
      ]
    },
    {
      "cell_type": "code",
      "source": [
        "X=int(input())\n",
        "Y=2*X\n",
        "print('Z'*X+'O'*Y)\n"
      ],
      "metadata": {
        "colab": {
          "base_uri": "https://localhost:8080/"
        },
        "id": "KRBkjQ3m_N4n",
        "outputId": "8041405d-2a9d-4f40-9dcf-254d5cb631e5"
      },
      "execution_count": null,
      "outputs": [
        {
          "output_type": "stream",
          "name": "stdout",
          "text": [
            "2\n",
            "ZZOOOO\n"
          ]
        }
      ]
    }
  ]
}